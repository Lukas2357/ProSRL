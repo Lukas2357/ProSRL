{
 "cells": [
  {
   "cell_type": "code",
   "execution_count": 1,
   "outputs": [],
   "source": [
    "import os\n",
    "import shutil\n",
    "import warnings\n",
    "from pathlib import Path\n",
    "import pathlib\n",
    "import pandas as pd\n",
    "from helper import load_data\n",
    "from helper import get_root\n",
    "from helper import save_data\n",
    "from transform_fcts import user_to_id"
   ],
   "metadata": {
    "collapsed": false,
    "pycharm": {
     "name": "#%%\n"
    }
   }
  },
  {
   "cell_type": "code",
   "execution_count": 2,
   "outputs": [],
   "source": [
    "def upper_to_lower(df):\n",
    "    df = df.str.lower()\n",
    "    return df"
   ],
   "metadata": {
    "collapsed": false,
    "pycharm": {
     "name": "#%%\n"
    }
   }
  },
  {
   "cell_type": "code",
   "execution_count": 3,
   "outputs": [],
   "source": [
    "def make_u_to_ue(df):\n",
    "    df = df.str.replace('u','ue')\n",
    "    return df"
   ],
   "metadata": {
    "collapsed": false,
    "pycharm": {
     "name": "#%%\n"
    }
   }
  },
  {
   "cell_type": "code",
   "execution_count": 4,
   "outputs": [],
   "source": [
    "def load_data_semi(filename: str) -> pd.DataFrame:\n",
    "    \"\"\"Load any data csv file from the data folder\n",
    "\n",
    "    Args:\n",
    "        filename (str): Name of the csv file to load\n",
    "\n",
    "    Returns:\n",
    "        pd.DataFrame: Dataframe of all file data\n",
    "\n",
    "    \"\"\"\n",
    "    data_file = os.path.join(get_root(), \"data\", filename)\n",
    "    data_df = pd.read_csv(data_file, delimiter=';')\n",
    "\n",
    "    return data_df"
   ],
   "metadata": {
    "collapsed": false,
    "pycharm": {
     "name": "#%%\n"
    }
   }
  },
  {
   "cell_type": "code",
   "execution_count": 7,
   "outputs": [],
   "source": [
    "def generate_data_response():\n",
    "    df = load_data_semi('data_ubung_response.csv')\n",
    "    df = df[df[\"User\"].str.contains('HE')]\n",
    "    user_id = df[\"User\"].str[-3:].astype(int)\n",
    "    df[\"User\"] = user_id - min(user_id)\n",
    "    df.dropna(axis=0, inplace=True)\n",
    "    df.drop('Code', axis=1, inplace=True)\n",
    "    df.drop('Date/Time', axis=1, inplace=True)\n",
    "    df.drop('Aufgabenniveau', axis=1, inplace=True)\n",
    "    df['Task'] = make_u_to_ue(upper_to_lower(df['Task']))\n",
    "\n",
    "    save_data(df, 'data_mikro_response')\n",
    "    return df"
   ],
   "metadata": {
    "collapsed": false,
    "pycharm": {
     "name": "#%%\n"
    }
   }
  },
  {
   "cell_type": "code",
   "execution_count": null,
   "outputs": [],
   "source": [
    "df_res = generate_data_response()\n",
    "#df_res"
   ],
   "metadata": {
    "collapsed": false,
    "pycharm": {
     "name": "#%%\n"
    }
   }
  },
  {
   "cell_type": "code",
   "execution_count": 17,
   "outputs": [
    {
     "name": "stderr",
     "output_type": "stream",
     "text": [
      "C:\\Users\\Lukas\\AppData\\Local\\Temp/ipykernel_17688/1653907.py:1: UserWarning: Boolean Series key will be reindexed to match DataFrame index.\n",
      "  df_res[df_res['User']==0][df_res['Task']=='ks1c1ue3_1']['ResponsTask'].iloc[0]\n"
     ]
    },
    {
     "data": {
      "text/plain": "'twr'"
     },
     "execution_count": 17,
     "metadata": {},
     "output_type": "execute_result"
    }
   ],
   "source": [
    "df_res[df_res['User']==0][df_res['Task']=='ks1c1ue3_1']['ResponsTask'].iloc[0]"
   ],
   "metadata": {
    "collapsed": false,
    "pycharm": {
     "name": "#%%\n"
    }
   }
  },
  {
   "cell_type": "code",
   "execution_count": 18,
   "outputs": [],
   "source": [
    "def generate_data_exercise():\n",
    "    df = load_data('data_trafo.csv')\n",
    "    df.drop('Unnamed: 0',axis=1, inplace=True)\n",
    "    df.drop(df[df['Category'] == -1].index, inplace=True)\n",
    "    df.drop(df[df['Label'] == 'Tour'].index, inplace=True)\n",
    "    #df.drop(df[df['Label'] == 'Startseite'].index, inplace=True)\n",
    "    #df.drop(df[df['Label'] == 'Übersicht'].index, inplace=True)\n",
    "    df.drop(df[df['Label'] == 'Rückmeldungen'][df['TestResQual'] == -1].index, inplace=True)\n",
    "\n",
    "    #df_rt = load_data('data_mikro_response.csv')\n",
    "    df_rt = generate_data_response()\n",
    "    df.reset_index(inplace=True)\n",
    "    df_user = df.groupby('User')\n",
    "    df_mikro = []\n",
    "    for user in df_user:\n",
    "        index_tests = user[1].loc[user[1]['LearnType'] == 2].index\n",
    "\n",
    "        for index in index_tests:\n",
    "            df_mikro.append([user[0],\n",
    "                            df.iloc[index - 1]['Category'],\n",
    "                            df.iloc[index - 1]['LearnType'],\n",
    "                            df.iloc[index]['Category'],\n",
    "                            df.iloc[index]['LearnType'],\n",
    "                            df.iloc[index]['difficulty'],\n",
    "                            df_rt[df_res['User']==user[0]]\n",
    "                             [df_rt['Task']==df.iloc[index]['Label']]['ResponsTask'].iloc[0],\n",
    "                            df.iloc[index + 1]['Category'],\n",
    "                            df.iloc[index + 1]['LearnType']])\n",
    "\n",
    "    df_mikro = pd.DataFrame(df_mikro, columns=['User',\n",
    "                                               'PrevActCat',\n",
    "                                               'PrevActLT',\n",
    "                                               'ExerciseCat',\n",
    "                                               'ExerciseLT',\n",
    "                                               'Difficulty',\n",
    "                                               'ResponseTask',\n",
    "                                               'NextActCat',\n",
    "                                               'NextActLT'])\n",
    "\n",
    "    return df_mikro"
   ],
   "metadata": {
    "collapsed": false,
    "pycharm": {
     "name": "#%%\n"
    }
   }
  },
  {
   "cell_type": "code",
   "execution_count": 19,
   "outputs": [
    {
     "name": "stderr",
     "output_type": "stream",
     "text": [
      "C:\\Users\\Lukas\\AppData\\Local\\Temp/ipykernel_17688/1000858769.py:8: UserWarning: Boolean Series key will be reindexed to match DataFrame index.\n",
      "  df.drop(df[df['Label'] == 'Rückmeldungen'][df['TestResQual'] == -1].index, inplace=True)\n",
      "C:\\Users\\Lukas\\AppData\\Local\\Temp/ipykernel_17688/1000858769.py:25: UserWarning: Boolean Series key will be reindexed to match DataFrame index.\n",
      "  df_rt[df_res['User']==user[0]]\n"
     ]
    },
    {
     "ename": "IndexError",
     "evalue": "single positional indexer is out-of-bounds",
     "output_type": "error",
     "traceback": [
      "\u001B[1;31m---------------------------------------------------------------------------\u001B[0m",
      "\u001B[1;31mIndexError\u001B[0m                                Traceback (most recent call last)",
      "\u001B[1;32m~\\AppData\\Local\\Temp/ipykernel_17688/3519095864.py\u001B[0m in \u001B[0;36m<module>\u001B[1;34m\u001B[0m\n\u001B[1;32m----> 1\u001B[1;33m \u001B[0mdf_ex\u001B[0m \u001B[1;33m=\u001B[0m \u001B[0mgenerate_data_exercise\u001B[0m\u001B[1;33m(\u001B[0m\u001B[1;33m)\u001B[0m\u001B[1;33m\u001B[0m\u001B[1;33m\u001B[0m\u001B[0m\n\u001B[0m",
      "\u001B[1;32m~\\AppData\\Local\\Temp/ipykernel_17688/1000858769.py\u001B[0m in \u001B[0;36mgenerate_data_exercise\u001B[1;34m()\u001B[0m\n\u001B[0;32m     23\u001B[0m                             \u001B[0mdf\u001B[0m\u001B[1;33m.\u001B[0m\u001B[0miloc\u001B[0m\u001B[1;33m[\u001B[0m\u001B[0mindex\u001B[0m\u001B[1;33m]\u001B[0m\u001B[1;33m[\u001B[0m\u001B[1;34m'LearnType'\u001B[0m\u001B[1;33m]\u001B[0m\u001B[1;33m,\u001B[0m\u001B[1;33m\u001B[0m\u001B[1;33m\u001B[0m\u001B[0m\n\u001B[0;32m     24\u001B[0m                             \u001B[0mdf\u001B[0m\u001B[1;33m.\u001B[0m\u001B[0miloc\u001B[0m\u001B[1;33m[\u001B[0m\u001B[0mindex\u001B[0m\u001B[1;33m]\u001B[0m\u001B[1;33m[\u001B[0m\u001B[1;34m'difficulty'\u001B[0m\u001B[1;33m]\u001B[0m\u001B[1;33m,\u001B[0m\u001B[1;33m\u001B[0m\u001B[1;33m\u001B[0m\u001B[0m\n\u001B[1;32m---> 25\u001B[1;33m                             \u001B[0mdf_rt\u001B[0m\u001B[1;33m[\u001B[0m\u001B[0mdf_res\u001B[0m\u001B[1;33m[\u001B[0m\u001B[1;34m'User'\u001B[0m\u001B[1;33m]\u001B[0m\u001B[1;33m==\u001B[0m\u001B[0muser\u001B[0m\u001B[1;33m[\u001B[0m\u001B[1;36m0\u001B[0m\u001B[1;33m]\u001B[0m\u001B[1;33m]\u001B[0m\u001B[1;33m\u001B[0m\u001B[1;33m\u001B[0m\u001B[0m\n\u001B[0m\u001B[0;32m     26\u001B[0m                              \u001B[1;33m[\u001B[0m\u001B[0mdf_rt\u001B[0m\u001B[1;33m[\u001B[0m\u001B[1;34m'Task'\u001B[0m\u001B[1;33m]\u001B[0m\u001B[1;33m==\u001B[0m\u001B[0mdf\u001B[0m\u001B[1;33m.\u001B[0m\u001B[0miloc\u001B[0m\u001B[1;33m[\u001B[0m\u001B[0mindex\u001B[0m\u001B[1;33m]\u001B[0m\u001B[1;33m[\u001B[0m\u001B[1;34m'Label'\u001B[0m\u001B[1;33m]\u001B[0m\u001B[1;33m]\u001B[0m\u001B[1;33m[\u001B[0m\u001B[1;34m'ResponsTask'\u001B[0m\u001B[1;33m]\u001B[0m\u001B[1;33m.\u001B[0m\u001B[0miloc\u001B[0m\u001B[1;33m[\u001B[0m\u001B[1;36m0\u001B[0m\u001B[1;33m]\u001B[0m\u001B[1;33m,\u001B[0m\u001B[1;33m\u001B[0m\u001B[1;33m\u001B[0m\u001B[0m\n\u001B[0;32m     27\u001B[0m                             \u001B[0mdf\u001B[0m\u001B[1;33m.\u001B[0m\u001B[0miloc\u001B[0m\u001B[1;33m[\u001B[0m\u001B[0mindex\u001B[0m \u001B[1;33m+\u001B[0m \u001B[1;36m1\u001B[0m\u001B[1;33m]\u001B[0m\u001B[1;33m[\u001B[0m\u001B[1;34m'Category'\u001B[0m\u001B[1;33m]\u001B[0m\u001B[1;33m,\u001B[0m\u001B[1;33m\u001B[0m\u001B[1;33m\u001B[0m\u001B[0m\n",
      "\u001B[1;32m~\\anaconda3\\envs\\jlu_ai1\\lib\\site-packages\\pandas\\core\\indexing.py\u001B[0m in \u001B[0;36m__getitem__\u001B[1;34m(self, key)\u001B[0m\n\u001B[0;32m    965\u001B[0m \u001B[1;33m\u001B[0m\u001B[0m\n\u001B[0;32m    966\u001B[0m             \u001B[0mmaybe_callable\u001B[0m \u001B[1;33m=\u001B[0m \u001B[0mcom\u001B[0m\u001B[1;33m.\u001B[0m\u001B[0mapply_if_callable\u001B[0m\u001B[1;33m(\u001B[0m\u001B[0mkey\u001B[0m\u001B[1;33m,\u001B[0m \u001B[0mself\u001B[0m\u001B[1;33m.\u001B[0m\u001B[0mobj\u001B[0m\u001B[1;33m)\u001B[0m\u001B[1;33m\u001B[0m\u001B[1;33m\u001B[0m\u001B[0m\n\u001B[1;32m--> 967\u001B[1;33m             \u001B[1;32mreturn\u001B[0m \u001B[0mself\u001B[0m\u001B[1;33m.\u001B[0m\u001B[0m_getitem_axis\u001B[0m\u001B[1;33m(\u001B[0m\u001B[0mmaybe_callable\u001B[0m\u001B[1;33m,\u001B[0m \u001B[0maxis\u001B[0m\u001B[1;33m=\u001B[0m\u001B[0maxis\u001B[0m\u001B[1;33m)\u001B[0m\u001B[1;33m\u001B[0m\u001B[1;33m\u001B[0m\u001B[0m\n\u001B[0m\u001B[0;32m    968\u001B[0m \u001B[1;33m\u001B[0m\u001B[0m\n\u001B[0;32m    969\u001B[0m     \u001B[1;32mdef\u001B[0m \u001B[0m_is_scalar_access\u001B[0m\u001B[1;33m(\u001B[0m\u001B[0mself\u001B[0m\u001B[1;33m,\u001B[0m \u001B[0mkey\u001B[0m\u001B[1;33m:\u001B[0m \u001B[0mtuple\u001B[0m\u001B[1;33m)\u001B[0m\u001B[1;33m:\u001B[0m\u001B[1;33m\u001B[0m\u001B[1;33m\u001B[0m\u001B[0m\n",
      "\u001B[1;32m~\\anaconda3\\envs\\jlu_ai1\\lib\\site-packages\\pandas\\core\\indexing.py\u001B[0m in \u001B[0;36m_getitem_axis\u001B[1;34m(self, key, axis)\u001B[0m\n\u001B[0;32m   1518\u001B[0m \u001B[1;33m\u001B[0m\u001B[0m\n\u001B[0;32m   1519\u001B[0m             \u001B[1;31m# validate the location\u001B[0m\u001B[1;33m\u001B[0m\u001B[1;33m\u001B[0m\u001B[0m\n\u001B[1;32m-> 1520\u001B[1;33m             \u001B[0mself\u001B[0m\u001B[1;33m.\u001B[0m\u001B[0m_validate_integer\u001B[0m\u001B[1;33m(\u001B[0m\u001B[0mkey\u001B[0m\u001B[1;33m,\u001B[0m \u001B[0maxis\u001B[0m\u001B[1;33m)\u001B[0m\u001B[1;33m\u001B[0m\u001B[1;33m\u001B[0m\u001B[0m\n\u001B[0m\u001B[0;32m   1521\u001B[0m \u001B[1;33m\u001B[0m\u001B[0m\n\u001B[0;32m   1522\u001B[0m             \u001B[1;32mreturn\u001B[0m \u001B[0mself\u001B[0m\u001B[1;33m.\u001B[0m\u001B[0mobj\u001B[0m\u001B[1;33m.\u001B[0m\u001B[0m_ixs\u001B[0m\u001B[1;33m(\u001B[0m\u001B[0mkey\u001B[0m\u001B[1;33m,\u001B[0m \u001B[0maxis\u001B[0m\u001B[1;33m=\u001B[0m\u001B[0maxis\u001B[0m\u001B[1;33m)\u001B[0m\u001B[1;33m\u001B[0m\u001B[1;33m\u001B[0m\u001B[0m\n",
      "\u001B[1;32m~\\anaconda3\\envs\\jlu_ai1\\lib\\site-packages\\pandas\\core\\indexing.py\u001B[0m in \u001B[0;36m_validate_integer\u001B[1;34m(self, key, axis)\u001B[0m\n\u001B[0;32m   1450\u001B[0m         \u001B[0mlen_axis\u001B[0m \u001B[1;33m=\u001B[0m \u001B[0mlen\u001B[0m\u001B[1;33m(\u001B[0m\u001B[0mself\u001B[0m\u001B[1;33m.\u001B[0m\u001B[0mobj\u001B[0m\u001B[1;33m.\u001B[0m\u001B[0m_get_axis\u001B[0m\u001B[1;33m(\u001B[0m\u001B[0maxis\u001B[0m\u001B[1;33m)\u001B[0m\u001B[1;33m)\u001B[0m\u001B[1;33m\u001B[0m\u001B[1;33m\u001B[0m\u001B[0m\n\u001B[0;32m   1451\u001B[0m         \u001B[1;32mif\u001B[0m \u001B[0mkey\u001B[0m \u001B[1;33m>=\u001B[0m \u001B[0mlen_axis\u001B[0m \u001B[1;32mor\u001B[0m \u001B[0mkey\u001B[0m \u001B[1;33m<\u001B[0m \u001B[1;33m-\u001B[0m\u001B[0mlen_axis\u001B[0m\u001B[1;33m:\u001B[0m\u001B[1;33m\u001B[0m\u001B[1;33m\u001B[0m\u001B[0m\n\u001B[1;32m-> 1452\u001B[1;33m             \u001B[1;32mraise\u001B[0m \u001B[0mIndexError\u001B[0m\u001B[1;33m(\u001B[0m\u001B[1;34m\"single positional indexer is out-of-bounds\"\u001B[0m\u001B[1;33m)\u001B[0m\u001B[1;33m\u001B[0m\u001B[1;33m\u001B[0m\u001B[0m\n\u001B[0m\u001B[0;32m   1453\u001B[0m \u001B[1;33m\u001B[0m\u001B[0m\n\u001B[0;32m   1454\u001B[0m     \u001B[1;31m# -------------------------------------------------------------------\u001B[0m\u001B[1;33m\u001B[0m\u001B[1;33m\u001B[0m\u001B[0m\n",
      "\u001B[1;31mIndexError\u001B[0m: single positional indexer is out-of-bounds"
     ]
    }
   ],
   "source": [
    "df_ex = generate_data_exercise()"
   ],
   "metadata": {
    "collapsed": false,
    "pycharm": {
     "name": "#%%\n"
    }
   }
  },
  {
   "cell_type": "code",
   "execution_count": 20,
   "outputs": [
    {
     "data": {
      "text/plain": "     User  PrevActCat  PrevActLT  ExerciseCat  ExerciseLT  Difficulty  \\\n0       0           0          1            0           2           0   \n1       0           1          1            1           2           0   \n2       0           1          1            1           2           0   \n3       0           1          2            1           2           0   \n4       0           0          1            0           2           0   \n..    ...         ...        ...          ...         ...         ...   \n532    43           1          1            1           2           2   \n533    45           0          1            0           2           0   \n534    45           0          2            0           2           0   \n535    46           0          1            0           2           0   \n536    46           0          1            0           2           0   \n\n                                     ResponseTask  NextActCat  NextActLT  \n0     161    twr\nName: ResponsTask, dtype: object           0          6  \n1       162    r\nName: ResponsTask, dtype: object           1          1  \n2       162    r\nName: ResponsTask, dtype: object           1          2  \n3       162    r\nName: ResponsTask, dtype: object           1          6  \n4     161    twr\nName: ResponsTask, dtype: object           0          2  \n..                                            ...         ...        ...  \n532  Series([], Name: ResponsTask, dtype: object)           1          6  \n533  Series([], Name: ResponsTask, dtype: object)           0          2  \n534  Series([], Name: ResponsTask, dtype: object)           0          1  \n535  Series([], Name: ResponsTask, dtype: object)           0          1  \n536  Series([], Name: ResponsTask, dtype: object)           0          1  \n\n[537 rows x 9 columns]",
      "text/html": "<div>\n<style scoped>\n    .dataframe tbody tr th:only-of-type {\n        vertical-align: middle;\n    }\n\n    .dataframe tbody tr th {\n        vertical-align: top;\n    }\n\n    .dataframe thead th {\n        text-align: right;\n    }\n</style>\n<table border=\"1\" class=\"dataframe\">\n  <thead>\n    <tr style=\"text-align: right;\">\n      <th></th>\n      <th>User</th>\n      <th>PrevActCat</th>\n      <th>PrevActLT</th>\n      <th>ExerciseCat</th>\n      <th>ExerciseLT</th>\n      <th>Difficulty</th>\n      <th>ResponseTask</th>\n      <th>NextActCat</th>\n      <th>NextActLT</th>\n    </tr>\n  </thead>\n  <tbody>\n    <tr>\n      <th>0</th>\n      <td>0</td>\n      <td>0</td>\n      <td>1</td>\n      <td>0</td>\n      <td>2</td>\n      <td>0</td>\n      <td>161    twr\nName: ResponsTask, dtype: object</td>\n      <td>0</td>\n      <td>6</td>\n    </tr>\n    <tr>\n      <th>1</th>\n      <td>0</td>\n      <td>1</td>\n      <td>1</td>\n      <td>1</td>\n      <td>2</td>\n      <td>0</td>\n      <td>162    r\nName: ResponsTask, dtype: object</td>\n      <td>1</td>\n      <td>1</td>\n    </tr>\n    <tr>\n      <th>2</th>\n      <td>0</td>\n      <td>1</td>\n      <td>1</td>\n      <td>1</td>\n      <td>2</td>\n      <td>0</td>\n      <td>162    r\nName: ResponsTask, dtype: object</td>\n      <td>1</td>\n      <td>2</td>\n    </tr>\n    <tr>\n      <th>3</th>\n      <td>0</td>\n      <td>1</td>\n      <td>2</td>\n      <td>1</td>\n      <td>2</td>\n      <td>0</td>\n      <td>162    r\nName: ResponsTask, dtype: object</td>\n      <td>1</td>\n      <td>6</td>\n    </tr>\n    <tr>\n      <th>4</th>\n      <td>0</td>\n      <td>0</td>\n      <td>1</td>\n      <td>0</td>\n      <td>2</td>\n      <td>0</td>\n      <td>161    twr\nName: ResponsTask, dtype: object</td>\n      <td>0</td>\n      <td>2</td>\n    </tr>\n    <tr>\n      <th>...</th>\n      <td>...</td>\n      <td>...</td>\n      <td>...</td>\n      <td>...</td>\n      <td>...</td>\n      <td>...</td>\n      <td>...</td>\n      <td>...</td>\n      <td>...</td>\n    </tr>\n    <tr>\n      <th>532</th>\n      <td>43</td>\n      <td>1</td>\n      <td>1</td>\n      <td>1</td>\n      <td>2</td>\n      <td>2</td>\n      <td>Series([], Name: ResponsTask, dtype: object)</td>\n      <td>1</td>\n      <td>6</td>\n    </tr>\n    <tr>\n      <th>533</th>\n      <td>45</td>\n      <td>0</td>\n      <td>1</td>\n      <td>0</td>\n      <td>2</td>\n      <td>0</td>\n      <td>Series([], Name: ResponsTask, dtype: object)</td>\n      <td>0</td>\n      <td>2</td>\n    </tr>\n    <tr>\n      <th>534</th>\n      <td>45</td>\n      <td>0</td>\n      <td>2</td>\n      <td>0</td>\n      <td>2</td>\n      <td>0</td>\n      <td>Series([], Name: ResponsTask, dtype: object)</td>\n      <td>0</td>\n      <td>1</td>\n    </tr>\n    <tr>\n      <th>535</th>\n      <td>46</td>\n      <td>0</td>\n      <td>1</td>\n      <td>0</td>\n      <td>2</td>\n      <td>0</td>\n      <td>Series([], Name: ResponsTask, dtype: object)</td>\n      <td>0</td>\n      <td>1</td>\n    </tr>\n    <tr>\n      <th>536</th>\n      <td>46</td>\n      <td>0</td>\n      <td>1</td>\n      <td>0</td>\n      <td>2</td>\n      <td>0</td>\n      <td>Series([], Name: ResponsTask, dtype: object)</td>\n      <td>0</td>\n      <td>1</td>\n    </tr>\n  </tbody>\n</table>\n<p>537 rows × 9 columns</p>\n</div>"
     },
     "execution_count": 20,
     "metadata": {},
     "output_type": "execute_result"
    }
   ],
   "source": [
    "df_ex"
   ],
   "metadata": {
    "collapsed": false,
    "pycharm": {
     "name": "#%%\n"
    }
   }
  },
  {
   "cell_type": "code",
   "execution_count": 8,
   "outputs": [
    {
     "data": {
      "text/plain": "    PrevActCat  PrevActLT  ExerciseCat  ExerciseLT  Difficulty  NextActCat  \\\n0            0          1            0           2           0           0   \n1            0          1            0           2           0           0   \n2            0          1            0           2           0           0   \n3            0          1            0           2           0           1   \n4            0          1            0           2           1           0   \n..         ...        ...          ...         ...         ...         ...   \n77           5          1            5           2           1           5   \n78           5          1            5           2           1           5   \n79           5          2            5           2           1           5   \n80           5          2            5           2           2           5   \n81           5          2            5           2           2           5   \n\n    NextActLT  count traces  \n0           1            32  \n1           2            21  \n2           6             1  \n3           1             2  \n4           1            31  \n..        ...           ...  \n77          1             3  \n78          2             1  \n79          2             1  \n80          1             1  \n81          2             1  \n\n[82 rows x 8 columns]",
      "text/html": "<div>\n<style scoped>\n    .dataframe tbody tr th:only-of-type {\n        vertical-align: middle;\n    }\n\n    .dataframe tbody tr th {\n        vertical-align: top;\n    }\n\n    .dataframe thead th {\n        text-align: right;\n    }\n</style>\n<table border=\"1\" class=\"dataframe\">\n  <thead>\n    <tr style=\"text-align: right;\">\n      <th></th>\n      <th>PrevActCat</th>\n      <th>PrevActLT</th>\n      <th>ExerciseCat</th>\n      <th>ExerciseLT</th>\n      <th>Difficulty</th>\n      <th>NextActCat</th>\n      <th>NextActLT</th>\n      <th>count traces</th>\n    </tr>\n  </thead>\n  <tbody>\n    <tr>\n      <th>0</th>\n      <td>0</td>\n      <td>1</td>\n      <td>0</td>\n      <td>2</td>\n      <td>0</td>\n      <td>0</td>\n      <td>1</td>\n      <td>32</td>\n    </tr>\n    <tr>\n      <th>1</th>\n      <td>0</td>\n      <td>1</td>\n      <td>0</td>\n      <td>2</td>\n      <td>0</td>\n      <td>0</td>\n      <td>2</td>\n      <td>21</td>\n    </tr>\n    <tr>\n      <th>2</th>\n      <td>0</td>\n      <td>1</td>\n      <td>0</td>\n      <td>2</td>\n      <td>0</td>\n      <td>0</td>\n      <td>6</td>\n      <td>1</td>\n    </tr>\n    <tr>\n      <th>3</th>\n      <td>0</td>\n      <td>1</td>\n      <td>0</td>\n      <td>2</td>\n      <td>0</td>\n      <td>1</td>\n      <td>1</td>\n      <td>2</td>\n    </tr>\n    <tr>\n      <th>4</th>\n      <td>0</td>\n      <td>1</td>\n      <td>0</td>\n      <td>2</td>\n      <td>1</td>\n      <td>0</td>\n      <td>1</td>\n      <td>31</td>\n    </tr>\n    <tr>\n      <th>...</th>\n      <td>...</td>\n      <td>...</td>\n      <td>...</td>\n      <td>...</td>\n      <td>...</td>\n      <td>...</td>\n      <td>...</td>\n      <td>...</td>\n    </tr>\n    <tr>\n      <th>77</th>\n      <td>5</td>\n      <td>1</td>\n      <td>5</td>\n      <td>2</td>\n      <td>1</td>\n      <td>5</td>\n      <td>1</td>\n      <td>3</td>\n    </tr>\n    <tr>\n      <th>78</th>\n      <td>5</td>\n      <td>1</td>\n      <td>5</td>\n      <td>2</td>\n      <td>1</td>\n      <td>5</td>\n      <td>2</td>\n      <td>1</td>\n    </tr>\n    <tr>\n      <th>79</th>\n      <td>5</td>\n      <td>2</td>\n      <td>5</td>\n      <td>2</td>\n      <td>1</td>\n      <td>5</td>\n      <td>2</td>\n      <td>1</td>\n    </tr>\n    <tr>\n      <th>80</th>\n      <td>5</td>\n      <td>2</td>\n      <td>5</td>\n      <td>2</td>\n      <td>2</td>\n      <td>5</td>\n      <td>1</td>\n      <td>1</td>\n    </tr>\n    <tr>\n      <th>81</th>\n      <td>5</td>\n      <td>2</td>\n      <td>5</td>\n      <td>2</td>\n      <td>2</td>\n      <td>5</td>\n      <td>2</td>\n      <td>1</td>\n    </tr>\n  </tbody>\n</table>\n<p>82 rows × 8 columns</p>\n</div>"
     },
     "execution_count": 8,
     "metadata": {},
     "output_type": "execute_result"
    }
   ],
   "source": [
    "df_ex.drop(['User'], inplace=True, axis=1)\n",
    "df_ex.groupby(df_ex.columns.tolist()).size().reset_index().rename(columns={0:'count traces'})"
   ],
   "metadata": {
    "collapsed": false,
    "pycharm": {
     "name": "#%%\n"
    }
   }
  },
  {
   "cell_type": "code",
   "execution_count": 9,
   "outputs": [],
   "source": [
    "save_data(df_ex, 'data_mikro_exer_traces_82')"
   ],
   "metadata": {
    "collapsed": false,
    "pycharm": {
     "name": "#%%\n"
    }
   }
  },
  {
   "cell_type": "code",
   "execution_count": 19,
   "outputs": [
    {
     "data": {
      "text/plain": "     User  PrevActCat  PrevActLT  ExerciseCat  ExerciseLT  Difficulty  \\\n0       0           0          1            0           2           0   \n1       0           0          1            1           2           0   \n2       0           0          1            1           2           0   \n3       0           0          2            1           2           0   \n4       0           0          1            0           2           0   \n..    ...         ...        ...          ...         ...         ...   \n532    43           0          1            1           2           2   \n533    45           0          1            0           2           0   \n534    45           0          2            0           2           0   \n535    46           0          1            0           2           0   \n536    46           0          1            0           2           0   \n\n     NextActCat  NextActLT  \n0             0          6  \n1             0          1  \n2             0          2  \n3             0          6  \n4             0          2  \n..          ...        ...  \n532           0          6  \n533           0          2  \n534           0          1  \n535           0          1  \n536           0          1  \n\n[537 rows x 8 columns]",
      "text/html": "<div>\n<style scoped>\n    .dataframe tbody tr th:only-of-type {\n        vertical-align: middle;\n    }\n\n    .dataframe tbody tr th {\n        vertical-align: top;\n    }\n\n    .dataframe thead th {\n        text-align: right;\n    }\n</style>\n<table border=\"1\" class=\"dataframe\">\n  <thead>\n    <tr style=\"text-align: right;\">\n      <th></th>\n      <th>User</th>\n      <th>PrevActCat</th>\n      <th>PrevActLT</th>\n      <th>ExerciseCat</th>\n      <th>ExerciseLT</th>\n      <th>Difficulty</th>\n      <th>NextActCat</th>\n      <th>NextActLT</th>\n    </tr>\n  </thead>\n  <tbody>\n    <tr>\n      <th>0</th>\n      <td>0</td>\n      <td>0</td>\n      <td>1</td>\n      <td>0</td>\n      <td>2</td>\n      <td>0</td>\n      <td>0</td>\n      <td>6</td>\n    </tr>\n    <tr>\n      <th>1</th>\n      <td>0</td>\n      <td>0</td>\n      <td>1</td>\n      <td>1</td>\n      <td>2</td>\n      <td>0</td>\n      <td>0</td>\n      <td>1</td>\n    </tr>\n    <tr>\n      <th>2</th>\n      <td>0</td>\n      <td>0</td>\n      <td>1</td>\n      <td>1</td>\n      <td>2</td>\n      <td>0</td>\n      <td>0</td>\n      <td>2</td>\n    </tr>\n    <tr>\n      <th>3</th>\n      <td>0</td>\n      <td>0</td>\n      <td>2</td>\n      <td>1</td>\n      <td>2</td>\n      <td>0</td>\n      <td>0</td>\n      <td>6</td>\n    </tr>\n    <tr>\n      <th>4</th>\n      <td>0</td>\n      <td>0</td>\n      <td>1</td>\n      <td>0</td>\n      <td>2</td>\n      <td>0</td>\n      <td>0</td>\n      <td>2</td>\n    </tr>\n    <tr>\n      <th>...</th>\n      <td>...</td>\n      <td>...</td>\n      <td>...</td>\n      <td>...</td>\n      <td>...</td>\n      <td>...</td>\n      <td>...</td>\n      <td>...</td>\n    </tr>\n    <tr>\n      <th>532</th>\n      <td>43</td>\n      <td>0</td>\n      <td>1</td>\n      <td>1</td>\n      <td>2</td>\n      <td>2</td>\n      <td>0</td>\n      <td>6</td>\n    </tr>\n    <tr>\n      <th>533</th>\n      <td>45</td>\n      <td>0</td>\n      <td>1</td>\n      <td>0</td>\n      <td>2</td>\n      <td>0</td>\n      <td>0</td>\n      <td>2</td>\n    </tr>\n    <tr>\n      <th>534</th>\n      <td>45</td>\n      <td>0</td>\n      <td>2</td>\n      <td>0</td>\n      <td>2</td>\n      <td>0</td>\n      <td>0</td>\n      <td>1</td>\n    </tr>\n    <tr>\n      <th>535</th>\n      <td>46</td>\n      <td>0</td>\n      <td>1</td>\n      <td>0</td>\n      <td>2</td>\n      <td>0</td>\n      <td>0</td>\n      <td>1</td>\n    </tr>\n    <tr>\n      <th>536</th>\n      <td>46</td>\n      <td>0</td>\n      <td>1</td>\n      <td>0</td>\n      <td>2</td>\n      <td>0</td>\n      <td>0</td>\n      <td>1</td>\n    </tr>\n  </tbody>\n</table>\n<p>537 rows × 8 columns</p>\n</div>"
     },
     "execution_count": 19,
     "metadata": {},
     "output_type": "execute_result"
    }
   ],
   "source": [
    "diff_next = df_ex['NextActCat'] == df_ex['ExerciseCat']\n",
    "next_as_int = [0 if next else 1 for next in diff_next]\n",
    "\n",
    "#df_test_conv = df_test.copy()\n",
    "diff_prev_exer = df_ex['PrevActCat'] - df_ex['ExerciseCat']\n",
    "#diff_next_test = int(not(df_test['NextAct'] == df_test['Test']))\n",
    "df_ex['PrevActCat'] = diff_prev_exer\n",
    "#df_ex['ExerciseCat'] = diff_prev_exer\n",
    "df_ex['NextActCat'] = next_as_int\n",
    "df_ex"
   ],
   "metadata": {
    "collapsed": false,
    "pycharm": {
     "name": "#%%\n"
    }
   }
  },
  {
   "cell_type": "code",
   "execution_count": 20,
   "outputs": [
    {
     "data": {
      "text/plain": "    PrevActCat  PrevActLT  ExerciseCat  ExerciseLT  Difficulty  NextActCat  \\\n0            0          1            0           2           0           0   \n1            0          1            0           2           0           0   \n2            0          1            0           2           0           0   \n3            0          1            0           2           0           1   \n4            0          1            0           2           1           0   \n..         ...        ...          ...         ...         ...         ...   \n77           0          2            4           2           2           0   \n78           0          2            5           2           1           0   \n79           0          2            5           2           2           0   \n80           0          2            5           2           2           0   \n81           1          1            0           2           1           0   \n\n    NextActLT  count traces  \n0           1            32  \n1           2            21  \n2           6             1  \n3           1             2  \n4           1            31  \n..        ...           ...  \n77          6             1  \n78          2             1  \n79          1             1  \n80          2             1  \n81          1             1  \n\n[82 rows x 8 columns]",
      "text/html": "<div>\n<style scoped>\n    .dataframe tbody tr th:only-of-type {\n        vertical-align: middle;\n    }\n\n    .dataframe tbody tr th {\n        vertical-align: top;\n    }\n\n    .dataframe thead th {\n        text-align: right;\n    }\n</style>\n<table border=\"1\" class=\"dataframe\">\n  <thead>\n    <tr style=\"text-align: right;\">\n      <th></th>\n      <th>PrevActCat</th>\n      <th>PrevActLT</th>\n      <th>ExerciseCat</th>\n      <th>ExerciseLT</th>\n      <th>Difficulty</th>\n      <th>NextActCat</th>\n      <th>NextActLT</th>\n      <th>count traces</th>\n    </tr>\n  </thead>\n  <tbody>\n    <tr>\n      <th>0</th>\n      <td>0</td>\n      <td>1</td>\n      <td>0</td>\n      <td>2</td>\n      <td>0</td>\n      <td>0</td>\n      <td>1</td>\n      <td>32</td>\n    </tr>\n    <tr>\n      <th>1</th>\n      <td>0</td>\n      <td>1</td>\n      <td>0</td>\n      <td>2</td>\n      <td>0</td>\n      <td>0</td>\n      <td>2</td>\n      <td>21</td>\n    </tr>\n    <tr>\n      <th>2</th>\n      <td>0</td>\n      <td>1</td>\n      <td>0</td>\n      <td>2</td>\n      <td>0</td>\n      <td>0</td>\n      <td>6</td>\n      <td>1</td>\n    </tr>\n    <tr>\n      <th>3</th>\n      <td>0</td>\n      <td>1</td>\n      <td>0</td>\n      <td>2</td>\n      <td>0</td>\n      <td>1</td>\n      <td>1</td>\n      <td>2</td>\n    </tr>\n    <tr>\n      <th>4</th>\n      <td>0</td>\n      <td>1</td>\n      <td>0</td>\n      <td>2</td>\n      <td>1</td>\n      <td>0</td>\n      <td>1</td>\n      <td>31</td>\n    </tr>\n    <tr>\n      <th>...</th>\n      <td>...</td>\n      <td>...</td>\n      <td>...</td>\n      <td>...</td>\n      <td>...</td>\n      <td>...</td>\n      <td>...</td>\n      <td>...</td>\n    </tr>\n    <tr>\n      <th>77</th>\n      <td>0</td>\n      <td>2</td>\n      <td>4</td>\n      <td>2</td>\n      <td>2</td>\n      <td>0</td>\n      <td>6</td>\n      <td>1</td>\n    </tr>\n    <tr>\n      <th>78</th>\n      <td>0</td>\n      <td>2</td>\n      <td>5</td>\n      <td>2</td>\n      <td>1</td>\n      <td>0</td>\n      <td>2</td>\n      <td>1</td>\n    </tr>\n    <tr>\n      <th>79</th>\n      <td>0</td>\n      <td>2</td>\n      <td>5</td>\n      <td>2</td>\n      <td>2</td>\n      <td>0</td>\n      <td>1</td>\n      <td>1</td>\n    </tr>\n    <tr>\n      <th>80</th>\n      <td>0</td>\n      <td>2</td>\n      <td>5</td>\n      <td>2</td>\n      <td>2</td>\n      <td>0</td>\n      <td>2</td>\n      <td>1</td>\n    </tr>\n    <tr>\n      <th>81</th>\n      <td>1</td>\n      <td>1</td>\n      <td>0</td>\n      <td>2</td>\n      <td>1</td>\n      <td>0</td>\n      <td>1</td>\n      <td>1</td>\n    </tr>\n  </tbody>\n</table>\n<p>82 rows × 8 columns</p>\n</div>"
     },
     "execution_count": 20,
     "metadata": {},
     "output_type": "execute_result"
    }
   ],
   "source": [
    "df_ex.drop(['User'], inplace=True, axis=1)\n",
    "df_ex.groupby(df_ex.columns.tolist()).size().reset_index().rename(columns={0:'count traces'})"
   ],
   "metadata": {
    "collapsed": false,
    "pycharm": {
     "name": "#%%\n"
    }
   }
  },
  {
   "cell_type": "code",
   "execution_count": null,
   "outputs": [],
   "source": [],
   "metadata": {
    "collapsed": false,
    "pycharm": {
     "name": "#%%\n"
    }
   }
  }
 ],
 "metadata": {
  "kernelspec": {
   "display_name": "Python 3",
   "language": "python",
   "name": "python3"
  },
  "language_info": {
   "codemirror_mode": {
    "name": "ipython",
    "version": 2
   },
   "file_extension": ".py",
   "mimetype": "text/x-python",
   "name": "python",
   "nbconvert_exporter": "python",
   "pygments_lexer": "ipython2",
   "version": "2.7.6"
  }
 },
 "nbformat": 4,
 "nbformat_minor": 0
}