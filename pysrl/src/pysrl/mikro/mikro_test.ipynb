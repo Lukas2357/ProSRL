{
 "cells": [
  {
   "cell_type": "code",
   "execution_count": 2,
   "outputs": [],
   "source": [
    "import pandas as pd\n",
    "\n",
    "from helper import load_data\n",
    "from helper import save_data"
   ],
   "metadata": {
    "collapsed": false,
    "pycharm": {
     "name": "#%%\n"
    }
   }
  },
  {
   "cell_type": "code",
   "execution_count": 3,
   "outputs": [],
   "source": [
    "def generate_data_tests():\n",
    "    df = load_data('data_trafo.csv')\n",
    "    df.drop('Unnamed: 0',axis=1, inplace=True)\n",
    "    df.drop(df[df['Category'] == -1].index, inplace=True)\n",
    "    df.drop(df[df['Label'] == 'Tour'].index, inplace=True)\n",
    "    df.drop(df[df['Label'] == 'Startseite'].index, inplace=True)\n",
    "    df.drop(df[df['Label'] == 'Übersicht'].index, inplace=True)\n",
    "    df.drop(df[df['Label'] == 'Rückmeldungen'][df['TestResQual'] == -1].index, inplace=True)\n",
    "    df.reset_index(inplace=True)\n",
    "    df_user = df.groupby('User')\n",
    "    df_mikro = []\n",
    "    for user in df_user:\n",
    "        index_tests = user[1].loc[user[1]['TestResQual'] >= 0].index\n",
    "\n",
    "        for index in index_tests:\n",
    "            df_mikro.append([user[0],\n",
    "                            df.iloc[index - 1]['Category'],\n",
    "                            df.iloc[index]['Category'],\n",
    "                            df.iloc[index]['TestResQual'],\n",
    "                            df.iloc[index + 1]['Category']])\n",
    "\n",
    "    df_mikro = pd.DataFrame(df_mikro, columns=['User', 'PrevAct', 'Test', 'TestResQual', 'NextAct'])\n",
    "\n",
    "    return df_mikro"
   ],
   "metadata": {
    "collapsed": false,
    "pycharm": {
     "name": "#%%\n"
    }
   }
  },
  {
   "cell_type": "code",
   "execution_count": 21,
   "outputs": [
    {
     "name": "stderr",
     "output_type": "stream",
     "text": [
      "C:\\Users\\Lukas\\AppData\\Local\\Temp/ipykernel_9720/475812105.py:8: UserWarning: Boolean Series key will be reindexed to match DataFrame index.\n",
      "  df.drop(df[df['Label'] == 'Rückmeldungen'][df['TestResQual'] == -1].index, inplace=True)\n"
     ]
    },
    {
     "data": {
      "text/plain": "    User  PrevAct  Test  TestResQual  NextAct\n0      0        1     1            1        0\n1      0        0     0            1        0\n2      1        0     0            2        0\n3      1        0     0            2        1\n4      4        0     0            0        1\n..   ...      ...   ...          ...      ...\n89    42        1     1            2        0\n90    43        0     0            2        5\n91    43        1     1            2        4\n92    45        0     0            1        0\n93    45        1     1            1        2\n\n[94 rows x 5 columns]",
      "text/html": "<div>\n<style scoped>\n    .dataframe tbody tr th:only-of-type {\n        vertical-align: middle;\n    }\n\n    .dataframe tbody tr th {\n        vertical-align: top;\n    }\n\n    .dataframe thead th {\n        text-align: right;\n    }\n</style>\n<table border=\"1\" class=\"dataframe\">\n  <thead>\n    <tr style=\"text-align: right;\">\n      <th></th>\n      <th>User</th>\n      <th>PrevAct</th>\n      <th>Test</th>\n      <th>TestResQual</th>\n      <th>NextAct</th>\n    </tr>\n  </thead>\n  <tbody>\n    <tr>\n      <th>0</th>\n      <td>0</td>\n      <td>1</td>\n      <td>1</td>\n      <td>1</td>\n      <td>0</td>\n    </tr>\n    <tr>\n      <th>1</th>\n      <td>0</td>\n      <td>0</td>\n      <td>0</td>\n      <td>1</td>\n      <td>0</td>\n    </tr>\n    <tr>\n      <th>2</th>\n      <td>1</td>\n      <td>0</td>\n      <td>0</td>\n      <td>2</td>\n      <td>0</td>\n    </tr>\n    <tr>\n      <th>3</th>\n      <td>1</td>\n      <td>0</td>\n      <td>0</td>\n      <td>2</td>\n      <td>1</td>\n    </tr>\n    <tr>\n      <th>4</th>\n      <td>4</td>\n      <td>0</td>\n      <td>0</td>\n      <td>0</td>\n      <td>1</td>\n    </tr>\n    <tr>\n      <th>...</th>\n      <td>...</td>\n      <td>...</td>\n      <td>...</td>\n      <td>...</td>\n      <td>...</td>\n    </tr>\n    <tr>\n      <th>89</th>\n      <td>42</td>\n      <td>1</td>\n      <td>1</td>\n      <td>2</td>\n      <td>0</td>\n    </tr>\n    <tr>\n      <th>90</th>\n      <td>43</td>\n      <td>0</td>\n      <td>0</td>\n      <td>2</td>\n      <td>5</td>\n    </tr>\n    <tr>\n      <th>91</th>\n      <td>43</td>\n      <td>1</td>\n      <td>1</td>\n      <td>2</td>\n      <td>4</td>\n    </tr>\n    <tr>\n      <th>92</th>\n      <td>45</td>\n      <td>0</td>\n      <td>0</td>\n      <td>1</td>\n      <td>0</td>\n    </tr>\n    <tr>\n      <th>93</th>\n      <td>45</td>\n      <td>1</td>\n      <td>1</td>\n      <td>1</td>\n      <td>2</td>\n    </tr>\n  </tbody>\n</table>\n<p>94 rows × 5 columns</p>\n</div>"
     },
     "execution_count": 21,
     "metadata": {},
     "output_type": "execute_result"
    }
   ],
   "source": [
    "df_test = generate_data_tests()\n",
    "df_test"
   ],
   "metadata": {
    "collapsed": false,
    "pycharm": {
     "name": "#%%\n"
    }
   }
  },
  {
   "cell_type": "code",
   "execution_count": 5,
   "outputs": [
    {
     "name": "stderr",
     "output_type": "stream",
     "text": [
      "C:\\Users\\Lukas\\AppData\\Local\\Temp/ipykernel_9720/896340846.py:7: UserWarning: Boolean Series key will be reindexed to match DataFrame index.\n",
      "  df_trafo.drop(df_trafo[df_trafo['Label'] == 'Rückmeldungen'][df_trafo['TestResQual'] == -1].index, inplace=True)\n"
     ]
    }
   ],
   "source": [
    "df_trafo = load_data('data_trafo.csv')\n",
    "df_trafo.drop('Unnamed: 0',axis=1, inplace=True)\n",
    "df_trafo.drop(df_trafo[df_trafo['Category'] == -1].index, inplace=True)\n",
    "df_trafo.drop(df_trafo[df_trafo['Label'] == 'Tour'].index, inplace=True)\n",
    "df_trafo.drop(df_trafo[df_trafo['Label'] == 'Startseite'].index, inplace=True)\n",
    "df_trafo.drop(df_trafo[df_trafo['Label'] == 'Übersicht'].index, inplace=True)\n",
    "df_trafo.drop(df_trafo[df_trafo['Label'] == 'Rückmeldungen'][df_trafo['TestResQual'] == -1].index, inplace=True)"
   ],
   "metadata": {
    "collapsed": false,
    "pycharm": {
     "name": "#%%\n"
    }
   }
  },
  {
   "cell_type": "code",
   "execution_count": 6,
   "outputs": [
    {
     "data": {
      "text/plain": "      User  Category       Label  ResponsTask  TestResQual  TestResQuant  \\\n3        0         0        ks1a           -1           -1            -1   \n4        0         0       ka1a1           -1           -1            -1   \n5        0         0  ks1a1b1_1a           -1           -1            -1   \n6        0         0       ka1a1           -1           -1            -1   \n7        0         0  ks1a1b2_1a           -1           -1            -1   \n...    ...       ...         ...          ...          ...           ...   \n6613    46         1  ks2b1k3_1a           -1           -1            -1   \n6614    46         1       ks2b1           -1           -1            -1   \n6615    46         1       ks2b2           -1           -1            -1   \n6616    46         1        ks2b           -1           -1            -1   \n6618    46         1      Logout           -1           -1            -1   \n\n      SecSpent    TotSec  LearnType  Level  UserCumSec  difficulty  \n3            4       138          6      0         111          -1  \n4           90       142          4      0         201          -1  \n5           46       232          5      0         247          -1  \n6           11       278          4      0         258          -1  \n7           31       289          5      0         289          -1  \n...        ...       ...        ...    ...         ...         ...  \n6613       113  16244994          3      1        1078          -1  \n6614       819  16245107          4      1        4009          -1  \n6615        11  16245926          4      1        4020          -1  \n6616        70  16245937          6      1        4090          -1  \n6618        10  16246032          6      1        4125          -1  \n\n[5873 rows x 12 columns]",
      "text/html": "<div>\n<style scoped>\n    .dataframe tbody tr th:only-of-type {\n        vertical-align: middle;\n    }\n\n    .dataframe tbody tr th {\n        vertical-align: top;\n    }\n\n    .dataframe thead th {\n        text-align: right;\n    }\n</style>\n<table border=\"1\" class=\"dataframe\">\n  <thead>\n    <tr style=\"text-align: right;\">\n      <th></th>\n      <th>User</th>\n      <th>Category</th>\n      <th>Label</th>\n      <th>ResponsTask</th>\n      <th>TestResQual</th>\n      <th>TestResQuant</th>\n      <th>SecSpent</th>\n      <th>TotSec</th>\n      <th>LearnType</th>\n      <th>Level</th>\n      <th>UserCumSec</th>\n      <th>difficulty</th>\n    </tr>\n  </thead>\n  <tbody>\n    <tr>\n      <th>3</th>\n      <td>0</td>\n      <td>0</td>\n      <td>ks1a</td>\n      <td>-1</td>\n      <td>-1</td>\n      <td>-1</td>\n      <td>4</td>\n      <td>138</td>\n      <td>6</td>\n      <td>0</td>\n      <td>111</td>\n      <td>-1</td>\n    </tr>\n    <tr>\n      <th>4</th>\n      <td>0</td>\n      <td>0</td>\n      <td>ka1a1</td>\n      <td>-1</td>\n      <td>-1</td>\n      <td>-1</td>\n      <td>90</td>\n      <td>142</td>\n      <td>4</td>\n      <td>0</td>\n      <td>201</td>\n      <td>-1</td>\n    </tr>\n    <tr>\n      <th>5</th>\n      <td>0</td>\n      <td>0</td>\n      <td>ks1a1b1_1a</td>\n      <td>-1</td>\n      <td>-1</td>\n      <td>-1</td>\n      <td>46</td>\n      <td>232</td>\n      <td>5</td>\n      <td>0</td>\n      <td>247</td>\n      <td>-1</td>\n    </tr>\n    <tr>\n      <th>6</th>\n      <td>0</td>\n      <td>0</td>\n      <td>ka1a1</td>\n      <td>-1</td>\n      <td>-1</td>\n      <td>-1</td>\n      <td>11</td>\n      <td>278</td>\n      <td>4</td>\n      <td>0</td>\n      <td>258</td>\n      <td>-1</td>\n    </tr>\n    <tr>\n      <th>7</th>\n      <td>0</td>\n      <td>0</td>\n      <td>ks1a1b2_1a</td>\n      <td>-1</td>\n      <td>-1</td>\n      <td>-1</td>\n      <td>31</td>\n      <td>289</td>\n      <td>5</td>\n      <td>0</td>\n      <td>289</td>\n      <td>-1</td>\n    </tr>\n    <tr>\n      <th>...</th>\n      <td>...</td>\n      <td>...</td>\n      <td>...</td>\n      <td>...</td>\n      <td>...</td>\n      <td>...</td>\n      <td>...</td>\n      <td>...</td>\n      <td>...</td>\n      <td>...</td>\n      <td>...</td>\n      <td>...</td>\n    </tr>\n    <tr>\n      <th>6613</th>\n      <td>46</td>\n      <td>1</td>\n      <td>ks2b1k3_1a</td>\n      <td>-1</td>\n      <td>-1</td>\n      <td>-1</td>\n      <td>113</td>\n      <td>16244994</td>\n      <td>3</td>\n      <td>1</td>\n      <td>1078</td>\n      <td>-1</td>\n    </tr>\n    <tr>\n      <th>6614</th>\n      <td>46</td>\n      <td>1</td>\n      <td>ks2b1</td>\n      <td>-1</td>\n      <td>-1</td>\n      <td>-1</td>\n      <td>819</td>\n      <td>16245107</td>\n      <td>4</td>\n      <td>1</td>\n      <td>4009</td>\n      <td>-1</td>\n    </tr>\n    <tr>\n      <th>6615</th>\n      <td>46</td>\n      <td>1</td>\n      <td>ks2b2</td>\n      <td>-1</td>\n      <td>-1</td>\n      <td>-1</td>\n      <td>11</td>\n      <td>16245926</td>\n      <td>4</td>\n      <td>1</td>\n      <td>4020</td>\n      <td>-1</td>\n    </tr>\n    <tr>\n      <th>6616</th>\n      <td>46</td>\n      <td>1</td>\n      <td>ks2b</td>\n      <td>-1</td>\n      <td>-1</td>\n      <td>-1</td>\n      <td>70</td>\n      <td>16245937</td>\n      <td>6</td>\n      <td>1</td>\n      <td>4090</td>\n      <td>-1</td>\n    </tr>\n    <tr>\n      <th>6618</th>\n      <td>46</td>\n      <td>1</td>\n      <td>Logout</td>\n      <td>-1</td>\n      <td>-1</td>\n      <td>-1</td>\n      <td>10</td>\n      <td>16246032</td>\n      <td>6</td>\n      <td>1</td>\n      <td>4125</td>\n      <td>-1</td>\n    </tr>\n  </tbody>\n</table>\n<p>5873 rows × 12 columns</p>\n</div>"
     },
     "execution_count": 6,
     "metadata": {},
     "output_type": "execute_result"
    }
   ],
   "source": [
    "df_trafo"
   ],
   "metadata": {
    "collapsed": false,
    "pycharm": {
     "name": "#%%\n"
    }
   }
  },
  {
   "cell_type": "code",
   "execution_count": null,
   "outputs": [],
   "source": [],
   "metadata": {
    "collapsed": false,
    "pycharm": {
     "name": "#%%\n"
    }
   }
  },
  {
   "cell_type": "code",
   "execution_count": 7,
   "outputs": [
    {
     "data": {
      "text/plain": "    User  PrevAct  Test  TestResQual  NextAct\n0      0        1     1            1        0\n1      0        0     0            1        0\n2      1        0     0            2        0\n3      1        0     0            2        1\n4      4        0     0            0        1\n..   ...      ...   ...          ...      ...\n89    42        1     1            2        0\n90    43        0     0            2        5\n91    43        1     1            2        4\n92    45        0     0            1        0\n93    45        1     1            1        2\n\n[94 rows x 5 columns]",
      "text/html": "<div>\n<style scoped>\n    .dataframe tbody tr th:only-of-type {\n        vertical-align: middle;\n    }\n\n    .dataframe tbody tr th {\n        vertical-align: top;\n    }\n\n    .dataframe thead th {\n        text-align: right;\n    }\n</style>\n<table border=\"1\" class=\"dataframe\">\n  <thead>\n    <tr style=\"text-align: right;\">\n      <th></th>\n      <th>User</th>\n      <th>PrevAct</th>\n      <th>Test</th>\n      <th>TestResQual</th>\n      <th>NextAct</th>\n    </tr>\n  </thead>\n  <tbody>\n    <tr>\n      <th>0</th>\n      <td>0</td>\n      <td>1</td>\n      <td>1</td>\n      <td>1</td>\n      <td>0</td>\n    </tr>\n    <tr>\n      <th>1</th>\n      <td>0</td>\n      <td>0</td>\n      <td>0</td>\n      <td>1</td>\n      <td>0</td>\n    </tr>\n    <tr>\n      <th>2</th>\n      <td>1</td>\n      <td>0</td>\n      <td>0</td>\n      <td>2</td>\n      <td>0</td>\n    </tr>\n    <tr>\n      <th>3</th>\n      <td>1</td>\n      <td>0</td>\n      <td>0</td>\n      <td>2</td>\n      <td>1</td>\n    </tr>\n    <tr>\n      <th>4</th>\n      <td>4</td>\n      <td>0</td>\n      <td>0</td>\n      <td>0</td>\n      <td>1</td>\n    </tr>\n    <tr>\n      <th>...</th>\n      <td>...</td>\n      <td>...</td>\n      <td>...</td>\n      <td>...</td>\n      <td>...</td>\n    </tr>\n    <tr>\n      <th>89</th>\n      <td>42</td>\n      <td>1</td>\n      <td>1</td>\n      <td>2</td>\n      <td>0</td>\n    </tr>\n    <tr>\n      <th>90</th>\n      <td>43</td>\n      <td>0</td>\n      <td>0</td>\n      <td>2</td>\n      <td>5</td>\n    </tr>\n    <tr>\n      <th>91</th>\n      <td>43</td>\n      <td>1</td>\n      <td>1</td>\n      <td>2</td>\n      <td>4</td>\n    </tr>\n    <tr>\n      <th>92</th>\n      <td>45</td>\n      <td>0</td>\n      <td>0</td>\n      <td>1</td>\n      <td>0</td>\n    </tr>\n    <tr>\n      <th>93</th>\n      <td>45</td>\n      <td>1</td>\n      <td>1</td>\n      <td>1</td>\n      <td>2</td>\n    </tr>\n  </tbody>\n</table>\n<p>94 rows × 5 columns</p>\n</div>"
     },
     "execution_count": 7,
     "metadata": {},
     "output_type": "execute_result"
    }
   ],
   "source": [
    "df_test"
   ],
   "metadata": {
    "collapsed": false,
    "pycharm": {
     "name": "#%%\n"
    }
   }
  },
  {
   "cell_type": "code",
   "execution_count": 8,
   "outputs": [
    {
     "data": {
      "text/plain": "    User  PrevAct  Test  TestResQual  NextAct  count traces\n0      0        0     0            1        0             1\n1      0        1     1            1        0             1\n2      1        0     0            2        0             1\n3      1        0     0            2        1             1\n4      4        0     0            0        1             1\n..   ...      ...   ...          ...      ...           ...\n82    42        1     1            2        1             1\n83    43        0     0            2        5             1\n84    43        1     1            2        4             1\n85    45        0     0            1        0             1\n86    45        1     1            1        2             1\n\n[87 rows x 6 columns]",
      "text/html": "<div>\n<style scoped>\n    .dataframe tbody tr th:only-of-type {\n        vertical-align: middle;\n    }\n\n    .dataframe tbody tr th {\n        vertical-align: top;\n    }\n\n    .dataframe thead th {\n        text-align: right;\n    }\n</style>\n<table border=\"1\" class=\"dataframe\">\n  <thead>\n    <tr style=\"text-align: right;\">\n      <th></th>\n      <th>User</th>\n      <th>PrevAct</th>\n      <th>Test</th>\n      <th>TestResQual</th>\n      <th>NextAct</th>\n      <th>count traces</th>\n    </tr>\n  </thead>\n  <tbody>\n    <tr>\n      <th>0</th>\n      <td>0</td>\n      <td>0</td>\n      <td>0</td>\n      <td>1</td>\n      <td>0</td>\n      <td>1</td>\n    </tr>\n    <tr>\n      <th>1</th>\n      <td>0</td>\n      <td>1</td>\n      <td>1</td>\n      <td>1</td>\n      <td>0</td>\n      <td>1</td>\n    </tr>\n    <tr>\n      <th>2</th>\n      <td>1</td>\n      <td>0</td>\n      <td>0</td>\n      <td>2</td>\n      <td>0</td>\n      <td>1</td>\n    </tr>\n    <tr>\n      <th>3</th>\n      <td>1</td>\n      <td>0</td>\n      <td>0</td>\n      <td>2</td>\n      <td>1</td>\n      <td>1</td>\n    </tr>\n    <tr>\n      <th>4</th>\n      <td>4</td>\n      <td>0</td>\n      <td>0</td>\n      <td>0</td>\n      <td>1</td>\n      <td>1</td>\n    </tr>\n    <tr>\n      <th>...</th>\n      <td>...</td>\n      <td>...</td>\n      <td>...</td>\n      <td>...</td>\n      <td>...</td>\n      <td>...</td>\n    </tr>\n    <tr>\n      <th>82</th>\n      <td>42</td>\n      <td>1</td>\n      <td>1</td>\n      <td>2</td>\n      <td>1</td>\n      <td>1</td>\n    </tr>\n    <tr>\n      <th>83</th>\n      <td>43</td>\n      <td>0</td>\n      <td>0</td>\n      <td>2</td>\n      <td>5</td>\n      <td>1</td>\n    </tr>\n    <tr>\n      <th>84</th>\n      <td>43</td>\n      <td>1</td>\n      <td>1</td>\n      <td>2</td>\n      <td>4</td>\n      <td>1</td>\n    </tr>\n    <tr>\n      <th>85</th>\n      <td>45</td>\n      <td>0</td>\n      <td>0</td>\n      <td>1</td>\n      <td>0</td>\n      <td>1</td>\n    </tr>\n    <tr>\n      <th>86</th>\n      <td>45</td>\n      <td>1</td>\n      <td>1</td>\n      <td>1</td>\n      <td>2</td>\n      <td>1</td>\n    </tr>\n  </tbody>\n</table>\n<p>87 rows × 6 columns</p>\n</div>"
     },
     "execution_count": 8,
     "metadata": {},
     "output_type": "execute_result"
    }
   ],
   "source": [
    "df_test.groupby(df_test.columns.tolist()).size().reset_index().rename(columns={0:'count traces'})"
   ],
   "metadata": {
    "collapsed": false,
    "pycharm": {
     "name": "#%%\n"
    }
   }
  },
  {
   "cell_type": "code",
   "execution_count": 31,
   "outputs": [
    {
     "data": {
      "text/plain": "[1,\n 0,\n 0,\n 1,\n 1,\n 1,\n 1,\n 1,\n 0,\n 1,\n 1,\n 0,\n 0,\n 0,\n 1,\n 1,\n 1,\n 0,\n 1,\n 1,\n 0,\n 0,\n 0,\n 0,\n 1,\n 1,\n 1,\n 0,\n 1,\n 1,\n 1,\n 1,\n 1,\n 1,\n 0,\n 1,\n 1,\n 1,\n 0,\n 1,\n 1,\n 1,\n 1,\n 1,\n 0,\n 1,\n 0,\n 1,\n 1,\n 1,\n 1,\n 1,\n 0,\n 1,\n 1,\n 1,\n 1,\n 1,\n 1,\n 1,\n 1,\n 0,\n 1,\n 1,\n 1,\n 1,\n 1,\n 0,\n 1,\n 0,\n 0,\n 1,\n 1,\n 1,\n 0,\n 0,\n 1,\n 0,\n 0,\n 1,\n 0,\n 0,\n 0,\n 1,\n 1,\n 1,\n 0,\n 0,\n 0,\n 1,\n 1,\n 1,\n 0,\n 1]"
     },
     "execution_count": 31,
     "metadata": {},
     "output_type": "execute_result"
    }
   ],
   "source": [
    "diff_next = df_test['NextAct'] == df_test['Test']\n",
    "next_as_int = [0 if next else 1 for next in diff_next]\n",
    "next_as_int"
   ],
   "metadata": {
    "collapsed": false,
    "pycharm": {
     "name": "#%%\n"
    }
   }
  },
  {
   "cell_type": "code",
   "execution_count": 32,
   "outputs": [
    {
     "data": {
      "text/plain": "    User  PrevAct  Test  TestResQual  NextAct\n0      0        0     0            1        1\n1      0        0     0            1        0\n2      1        0     0            2        0\n3      1        0     0            2        1\n4      4        0     0            0        1\n..   ...      ...   ...          ...      ...\n89    42        0     0            2        1\n90    43        0     0            2        1\n91    43        0     0            2        1\n92    45        0     0            1        0\n93    45        0     0            1        1\n\n[94 rows x 5 columns]",
      "text/html": "<div>\n<style scoped>\n    .dataframe tbody tr th:only-of-type {\n        vertical-align: middle;\n    }\n\n    .dataframe tbody tr th {\n        vertical-align: top;\n    }\n\n    .dataframe thead th {\n        text-align: right;\n    }\n</style>\n<table border=\"1\" class=\"dataframe\">\n  <thead>\n    <tr style=\"text-align: right;\">\n      <th></th>\n      <th>User</th>\n      <th>PrevAct</th>\n      <th>Test</th>\n      <th>TestResQual</th>\n      <th>NextAct</th>\n    </tr>\n  </thead>\n  <tbody>\n    <tr>\n      <th>0</th>\n      <td>0</td>\n      <td>0</td>\n      <td>0</td>\n      <td>1</td>\n      <td>1</td>\n    </tr>\n    <tr>\n      <th>1</th>\n      <td>0</td>\n      <td>0</td>\n      <td>0</td>\n      <td>1</td>\n      <td>0</td>\n    </tr>\n    <tr>\n      <th>2</th>\n      <td>1</td>\n      <td>0</td>\n      <td>0</td>\n      <td>2</td>\n      <td>0</td>\n    </tr>\n    <tr>\n      <th>3</th>\n      <td>1</td>\n      <td>0</td>\n      <td>0</td>\n      <td>2</td>\n      <td>1</td>\n    </tr>\n    <tr>\n      <th>4</th>\n      <td>4</td>\n      <td>0</td>\n      <td>0</td>\n      <td>0</td>\n      <td>1</td>\n    </tr>\n    <tr>\n      <th>...</th>\n      <td>...</td>\n      <td>...</td>\n      <td>...</td>\n      <td>...</td>\n      <td>...</td>\n    </tr>\n    <tr>\n      <th>89</th>\n      <td>42</td>\n      <td>0</td>\n      <td>0</td>\n      <td>2</td>\n      <td>1</td>\n    </tr>\n    <tr>\n      <th>90</th>\n      <td>43</td>\n      <td>0</td>\n      <td>0</td>\n      <td>2</td>\n      <td>1</td>\n    </tr>\n    <tr>\n      <th>91</th>\n      <td>43</td>\n      <td>0</td>\n      <td>0</td>\n      <td>2</td>\n      <td>1</td>\n    </tr>\n    <tr>\n      <th>92</th>\n      <td>45</td>\n      <td>0</td>\n      <td>0</td>\n      <td>1</td>\n      <td>0</td>\n    </tr>\n    <tr>\n      <th>93</th>\n      <td>45</td>\n      <td>0</td>\n      <td>0</td>\n      <td>1</td>\n      <td>1</td>\n    </tr>\n  </tbody>\n</table>\n<p>94 rows × 5 columns</p>\n</div>"
     },
     "execution_count": 32,
     "metadata": {},
     "output_type": "execute_result"
    }
   ],
   "source": [
    "#df_test_conv = df_test.copy()\n",
    "diff_prev_test = df_test['PrevAct'] - df_test['Test']\n",
    "#diff_next_test = int(not(df_test['NextAct'] == df_test['Test']))\n",
    "df_test['PrevAct'] = diff_prev_test\n",
    "df_test['Test'] = diff_prev_test\n",
    "df_test['NextAct'] = next_as_int\n",
    "df_test"
   ],
   "metadata": {
    "collapsed": false,
    "pycharm": {
     "name": "#%%\n"
    }
   }
  },
  {
   "cell_type": "code",
   "execution_count": 33,
   "outputs": [
    {
     "data": {
      "text/plain": "   PrevAct  Test  TestResQual  NextAct  count traces\n0        0     0            0        0             2\n1        0     0            0        1             7\n2        0     0            1        0            19\n3        0     0            1        1            28\n4        0     0            2        0            11\n5        0     0            2        1            27",
      "text/html": "<div>\n<style scoped>\n    .dataframe tbody tr th:only-of-type {\n        vertical-align: middle;\n    }\n\n    .dataframe tbody tr th {\n        vertical-align: top;\n    }\n\n    .dataframe thead th {\n        text-align: right;\n    }\n</style>\n<table border=\"1\" class=\"dataframe\">\n  <thead>\n    <tr style=\"text-align: right;\">\n      <th></th>\n      <th>PrevAct</th>\n      <th>Test</th>\n      <th>TestResQual</th>\n      <th>NextAct</th>\n      <th>count traces</th>\n    </tr>\n  </thead>\n  <tbody>\n    <tr>\n      <th>0</th>\n      <td>0</td>\n      <td>0</td>\n      <td>0</td>\n      <td>0</td>\n      <td>2</td>\n    </tr>\n    <tr>\n      <th>1</th>\n      <td>0</td>\n      <td>0</td>\n      <td>0</td>\n      <td>1</td>\n      <td>7</td>\n    </tr>\n    <tr>\n      <th>2</th>\n      <td>0</td>\n      <td>0</td>\n      <td>1</td>\n      <td>0</td>\n      <td>19</td>\n    </tr>\n    <tr>\n      <th>3</th>\n      <td>0</td>\n      <td>0</td>\n      <td>1</td>\n      <td>1</td>\n      <td>28</td>\n    </tr>\n    <tr>\n      <th>4</th>\n      <td>0</td>\n      <td>0</td>\n      <td>2</td>\n      <td>0</td>\n      <td>11</td>\n    </tr>\n    <tr>\n      <th>5</th>\n      <td>0</td>\n      <td>0</td>\n      <td>2</td>\n      <td>1</td>\n      <td>27</td>\n    </tr>\n  </tbody>\n</table>\n</div>"
     },
     "execution_count": 33,
     "metadata": {},
     "output_type": "execute_result"
    }
   ],
   "source": [
    "df_test.drop(['User'], inplace=True, axis=1)\n",
    "df_test.groupby(df_test.columns.tolist()).size().reset_index().rename(columns={0:'count traces'})"
   ],
   "metadata": {
    "collapsed": false,
    "pycharm": {
     "name": "#%%\n"
    }
   }
  },
  {
   "cell_type": "code",
   "execution_count": 34,
   "outputs": [],
   "source": [
    "save_data(df_test, 'data_mikro_test_traces_6')"
   ],
   "metadata": {
    "collapsed": false,
    "pycharm": {
     "name": "#%%\n"
    }
   }
  },
  {
   "cell_type": "code",
   "execution_count": null,
   "outputs": [],
   "source": [],
   "metadata": {
    "collapsed": false,
    "pycharm": {
     "name": "#%%\n"
    }
   }
  }
 ],
 "metadata": {
  "kernelspec": {
   "display_name": "Python 3",
   "language": "python",
   "name": "python3"
  },
  "language_info": {
   "codemirror_mode": {
    "name": "ipython",
    "version": 2
   },
   "file_extension": ".py",
   "mimetype": "text/x-python",
   "name": "python",
   "nbconvert_exporter": "python",
   "pygments_lexer": "ipython2",
   "version": "2.7.6"
  }
 },
 "nbformat": 4,
 "nbformat_minor": 0
}