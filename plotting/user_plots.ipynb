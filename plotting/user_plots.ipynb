{
 "cells": [
  {
   "cell_type": "markdown",
   "id": "59723a05-8a07-4a63-9e6f-1f0b3ed17524",
   "metadata": {
    "id": "59723a05-8a07-4a63-9e6f-1f0b3ed17524"
   },
   "source": [
    "# Zusammenfassung von Userplots"
   ]
  },
  {
   "cell_type": "markdown",
   "id": "182002c1-e164-4c40-bdee-1bbc2c5b97cc",
   "metadata": {
    "id": "182002c1-e164-4c40-bdee-1bbc2c5b97cc"
   },
   "source": [
    "## Imports aus pysrl"
   ]
  },
  {
   "cell_type": "code",
   "execution_count": null,
   "id": "419bd3da-6bb2-438c-8f26-ae0e7e30c51d",
   "metadata": {
    "colab": {
     "base_uri": "https://localhost:8080/",
     "height": 376
    },
    "executionInfo": {
     "elapsed": 17,
     "status": "error",
     "timestamp": 1659079805019,
     "user": {
      "displayName": "Lukas Hunold",
      "userId": "05550546022433231415"
     },
     "user_tz": -120
    },
    "id": "419bd3da-6bb2-438c-8f26-ae0e7e30c51d",
    "outputId": "1da3efab-3d70-461e-b7c1-348003026072",
    "pycharm": {
     "name": "#%%\n"
    }
   },
   "outputs": [],
   "source": [
    "import os\n",
    "import config\n",
    "import warnings\n",
    "import matplotlib.pyplot as plt\n",
    "import matplotlib.backends.backend_pdf\n",
    "\n",
    "from pysrl.preparer.prep_fcts import load_learn_pages, load_transformed_data\n",
    "from pysrl.preparer.prep_help_fcts import get_user_dfs, plot_lines\n",
    "from pysrl.preparer.prep_help_fcts import time_dependent_features as timefig\n",
    "from pysrl.preparer.prep_fcts import time_dependent_sec_spent as spentfig\n",
    "from pysrl.preparer.prep_plot_fcts import learn_types_lineplots\n",
    "from pysrl.cluster.cluster_plot_fcts import significant_corrs_heatmap, \\\n",
    "    string_ratio_grid, get_success_moderators, summarize_feature_influences\n",
    "from pysrl.classifier.classify_fcts import merge_pers_feature\n",
    "from pysrl.config.constants import ROOT\n",
    "\n",
    "plt.rcParams.update({'figure.max_open_warning': 0})  # we want many figures!\n",
    "results_path = os.path.join(ROOT, 'plotting', 'results')\n",
    "warnings.filterwarnings('default')  # below they are ignored, reset this here"
   ]
  },
  {
   "cell_type": "markdown",
   "id": "bb73719e-2ab3-452e-a28e-abc25b178db0",
   "metadata": {
    "id": "bb73719e-2ab3-452e-a28e-abc25b178db0"
   },
   "source": [
    "## Laden der notwendigen Daten"
   ]
  },
  {
   "cell_type": "code",
   "execution_count": null,
   "id": "192ef3f1-03c7-415d-ac55-9eb2a63a8d55",
   "metadata": {
    "id": "192ef3f1-03c7-415d-ac55-9eb2a63a8d55",
    "tags": []
   },
   "outputs": [],
   "source": [
    "dfs = get_user_dfs(load_transformed_data())  # The dfs we need for all plots\n",
    "sorted_pages = load_learn_pages('learn_pages_sorted')  # for one type of plot"
   ]
  },
  {
   "cell_type": "markdown",
   "id": "53cae9c5-3932-4e03-9a6a-ee49acb42c78",
   "metadata": {
    "id": "53cae9c5-3932-4e03-9a6a-ee49acb42c78"
   },
   "source": [
    "## Jetzt die eigentlichen Plots"
   ]
  },
  {
   "cell_type": "markdown",
   "id": "6c9918d4-cbd9-40e2-8f69-b6d519d65ae4",
   "metadata": {
    "id": "6c9918d4-cbd9-40e2-8f69-b6d519d65ae4"
   },
   "source": [
    "### Definiere Parameter"
   ]
  },
  {
   "cell_type": "code",
   "execution_count": null,
   "id": "6f05d7aa-0093-4984-a40a-940127df6d06",
   "metadata": {
    "id": "6f05d7aa-0093-4984-a40a-940127df6d06"
   },
   "outputs": [],
   "source": [
    "kwargs = {'plot': True, 'save': True, 'n_min': 0}  # only save relevant here\n",
    "save = kwargs['save']\n",
    "n = 47 # Number of users to show"
   ]
  },
  {
   "cell_type": "markdown",
   "id": "d9ff2d9e-fc32-4dd9-9eca-11c7c6bfd6c3",
   "metadata": {
    "id": "d9ff2d9e-fc32-4dd9-9eca-11c7c6bfd6c3"
   },
   "source": [
    "### Zeitlicher Verlauf der Lerntypen"
   ]
  },
  {
   "cell_type": "code",
   "execution_count": null,
   "id": "2b6e393c-66a3-4242-9875-044417755565",
   "metadata": {
    "id": "2b6e393c-66a3-4242-9875-044417755565",
    "outputId": "73333bfb-674d-4f3e-b5be-9e2f9f9c4c79",
    "tags": []
   },
   "outputs": [],
   "source": [
    "labels = [\"Tests\", \"Übungen\", \"Lesen\"]\n",
    "mapper = [0, 1, 1, 2, 2, 2]\n",
    "spath = os.path.join(results_path, 'LerntypenVerlauf')\n",
    "figs1 = timefig(dfs[:n], labels, f_typ=\"LearnType\", mapping=mapper, \n",
    "                path=spath, **kwargs)"
   ]
  },
  {
   "cell_type": "markdown",
   "id": "e9f5ab41-c133-4d78-b64c-85ff1eabb906",
   "metadata": {
    "id": "e9f5ab41-c133-4d78-b64c-85ff1eabb906"
   },
   "source": [
    "### Zeitlicher Verlauf der Schwierigkeit"
   ]
  },
  {
   "cell_type": "code",
   "execution_count": null,
   "id": "6c5ce38a-6088-44e5-b953-6c60440f413f",
   "metadata": {
    "id": "6c5ce38a-6088-44e5-b953-6c60440f413f",
    "outputId": "4cfe1c3f-6a54-4b91-e80a-45a9cd223327",
    "tags": []
   },
   "outputs": [],
   "source": [
    "labels = [\"Leicht\", \"Mittel\", \"Schwer\"]\n",
    "spath = os.path.join(results_path, 'SchwierigkeitVerlauf')\n",
    "figs2= timefig(dfs[:n], labels, f_typ=\"difficulty\", path=spath, **kwargs)"
   ]
  },
  {
   "cell_type": "markdown",
   "id": "6a230e4f-d6f1-46c2-950c-8e780f938b90",
   "metadata": {
    "id": "6a230e4f-d6f1-46c2-950c-8e780f938b90"
   },
   "source": [
    "### Zeitlicher Verlauf der Korrektheit von Aufgaben"
   ]
  },
  {
   "cell_type": "code",
   "execution_count": null,
   "id": "bd6f707c-5694-4f12-8329-c6a081bc9266",
   "metadata": {
    "id": "bd6f707c-5694-4f12-8329-c6a081bc9266",
    "outputId": "2d5e7f45-ce9e-4f42-d293-f00724dd0b54",
    "tags": []
   },
   "outputs": [],
   "source": [
    "labels = [\"falsch\", \"teilw.\", \"richtig\"]\n",
    "spath = os.path.join(results_path, 'KorrektheitVerlauf')\n",
    "figs3 = timefig(dfs[:n], labels, f_typ=\"ResponsTask\", path=spath, **kwargs)"
   ]
  },
  {
   "cell_type": "markdown",
   "id": "312b85fe-7b5a-4863-a731-ea2313512de4",
   "metadata": {
    "id": "312b85fe-7b5a-4863-a731-ea2313512de4"
   },
   "source": [
    "### Zeitlicher Verlauf der Testpunkte"
   ]
  },
  {
   "cell_type": "code",
   "execution_count": null,
   "id": "eb9333c4-b755-4995-bc10-c4ae8d6c5f09",
   "metadata": {
    "id": "eb9333c4-b755-4995-bc10-c4ae8d6c5f09",
    "outputId": "60adc44c-acc9-434a-aa43-0b31bfa9c100",
    "tags": []
   },
   "outputs": [],
   "source": [
    "labels = [\"Testpunkte\"]\n",
    "spath = os.path.join(results_path, 'TestpunkteVerlauf')\n",
    "figs4 = timefig(dfs[:n], labels, f_typ=\"TestResQuant\", path=spath, **kwargs)"
   ]
  },
  {
   "cell_type": "markdown",
   "id": "62791971-317c-4ac5-be60-9048bec425e8",
   "metadata": {
    "id": "62791971-317c-4ac5-be60-9048bec425e8"
   },
   "source": [
    "### Zeitlicher Verlauf der Sekunden pro Seite"
   ]
  },
  {
   "cell_type": "code",
   "execution_count": null,
   "id": "9cad701e-a4d8-4cdc-ade7-567734085ea0",
   "metadata": {
    "id": "9cad701e-a4d8-4cdc-ade7-567734085ea0",
    "outputId": "3295da25-ef4d-400b-dfe3-f897355ae6cb",
    "tags": []
   },
   "outputs": [],
   "source": [
    "labels = [\"SekProSeite\"]\n",
    "figs5 = spentfig(dfs[:n], clabel=labels[0], save=save, plot=True,\n",
    "                 cpath=results_path)"
   ]
  },
  {
   "cell_type": "markdown",
   "id": "cd8c2ccb-8ebf-4cac-80bd-6db79663bb41",
   "metadata": {
    "id": "cd8c2ccb-8ebf-4cac-80bd-6db79663bb41"
   },
   "source": [
    "### Reihenfolge der Seiten im Vergleich zur Lernumgebung"
   ]
  },
  {
   "cell_type": "code",
   "execution_count": null,
   "id": "1fa9d883-b69b-45bb-8aef-08b1a6dd629a",
   "metadata": {
    "id": "1fa9d883-b69b-45bb-8aef-08b1a6dd629a",
    "tags": []
   },
   "outputs": [],
   "source": [
    "figs6 = []\n",
    "for i, user_df in enumerate(dfs[:n]):\n",
    "    spath = os.path.join(results_path, 'ActionOrder', str(i))\n",
    "    figs6.append(plot_lines(user_df, sorted_pages, save=save, path=spath))"
   ]
  },
  {
   "cell_type": "markdown",
   "id": "736f1865-9e53-4675-86db-df4cc271d842",
   "metadata": {
    "id": "736f1865-9e53-4675-86db-df4cc271d842"
   },
   "source": [
    "### Standard Lineplots der User"
   ]
  },
  {
   "cell_type": "code",
   "execution_count": null,
   "id": "5016332e-d948-4684-8195-00d27a417e3f",
   "metadata": {
    "id": "5016332e-d948-4684-8195-00d27a417e3f",
    "tags": []
   },
   "outputs": [],
   "source": [
    "learntypes = [[0], [2], [3], [5]]\n",
    "spath = os.path.join(results_path, 'Lineplots')\n",
    "figs7 = learn_types_lineplots(save=save, silent=True, file_extension='simple',\n",
    "                              path=spath, dpi=300, learntypes=learntypes,\n",
    "                              max_user=n)"
   ]
  },
  {
   "cell_type": "code",
   "execution_count": null,
   "id": "291a9f06-842c-4f4c-ab39-6ab75e739ed7",
   "metadata": {
    "tags": []
   },
   "outputs": [],
   "source": [
    "# With this all lineplots might be saved in one pdf, with lernerfolg annotated:\n",
    "\n",
    "features = merge_pers_feature(rm_incomplete_user=False, fill_na=True)\n",
    "annots = features[['User', 'NSt_Diff', 'RF_Diff']]\n",
    "\n",
    "for i in range(len(figs7)):\n",
    "    user = int(figs7[i][0]._suptitle.get_text())\n",
    "    if user in annots['User'].values:\n",
    "        nst = annots.loc[annots.User == user, 'NSt_Diff'].values[0]\n",
    "        rf = annots.loc[annots.User == user, 'RF_Diff'].values[0]\n",
    "        text = f'Lernerfolg -> NSt_Diff: {nst:.2f} | RF_Diff {rf:.2f}'\n",
    "    else:\n",
    "        text = f'Lernerfolg unbekannt, Tests unvollständig'\n",
    "    figs7[i][1].annotate(text, xy=(100, 175), xycoords='figure pixels')\n",
    "    \n",
    "filename = os.path.join(results_path, 'lineplots_mit_lernerfolg.pdf')\n",
    "pdf = matplotlib.backends.backend_pdf.PdfPages(filename)\n",
    "for fig in [entry[0] for entry in figs7]:\n",
    "    pdf.savefig(fig)\n",
    "    \n",
    "pdf.close()"
   ]
  },
  {
   "cell_type": "markdown",
   "id": "185cfbb4-da0e-4063-be63-e501212944c1",
   "metadata": {
    "id": "f7f40970-4d02-4fb7-8682-57b406ee3a4c"
   },
   "source": [
    "### Significant Correlation Heatmaps"
   ]
  },
  {
   "cell_type": "code",
   "execution_count": null,
   "id": "1ba9b621-294f-4192-9af7-fee0d4f1536e",
   "metadata": {
    "tags": []
   },
   "outputs": [],
   "source": [
    "kwargs = dict(method='pearson', p_threshold=5, min_cor=0, cor_threshold=0.8)\n",
    "\n",
    "warnings.filterwarnings(\"ignore\")\n",
    "spath = os.path.join(results_path, 'Heatmaps')\n",
    "\n",
    "fig8, _ = significant_corrs_heatmap(save=save, path=spath, **kwargs)"
   ]
  },
  {
   "cell_type": "markdown",
   "id": "5eacd26e-bdc2-46df-b6a1-34420c6f5948",
   "metadata": {},
   "source": [
    "### String Similarity Clustermap"
   ]
  },
  {
   "cell_type": "code",
   "execution_count": null,
   "id": "0f3aa583-fb8c-426b-b09d-395fdd3fc857",
   "metadata": {
    "tags": []
   },
   "outputs": [],
   "source": [
    "grid = string_ratio_grid(save=save)"
   ]
  },
  {
   "cell_type": "markdown",
   "id": "0e232b25-89a6-4102-adff-4bb10952ebd0",
   "metadata": {},
   "source": [
    "### Summary of Feature influences on Learn Success"
   ]
  },
  {
   "cell_type": "code",
   "execution_count": null,
   "id": "9bc689bb-0cad-4edd-9559-d7494fe856e9",
   "metadata": {
    "tags": []
   },
   "outputs": [],
   "source": [
    "moderators1 = get_success_moderators(diff='RF_Diff', save=True)\n",
    "fig9, _ = summarize_feature_influences(moderators1)\n",
    "\n",
    "moderators2 = get_success_moderators(diff='NSt_Diff', save=True)\n",
    "fig9, _ = summarize_feature_influences(moderators2)"
   ]
  }
 ],
 "metadata": {
  "colab": {
   "name": "user_plots.ipynb",
   "provenance": []
  },
  "kernelspec": {
   "display_name": "Python 3 (ipykernel)",
   "language": "python",
   "name": "python3"
  },
  "language_info": {
   "codemirror_mode": {
    "name": "ipython",
    "version": 3
   },
   "file_extension": ".py",
   "mimetype": "text/x-python",
   "name": "python",
   "nbconvert_exporter": "python",
   "pygments_lexer": "ipython3",
   "version": "3.10.0"
  }
 },
 "nbformat": 4,
 "nbformat_minor": 5
}
